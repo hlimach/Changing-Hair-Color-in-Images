{
 "cells": [
  {
   "cell_type": "code",
   "execution_count": 1,
   "metadata": {},
   "outputs": [],
   "source": [
    "import torch\n",
    "from torch.utils.data import DataLoader\n",
    "from torchsummaryX import summary\n",
    "from tqdm import tqdm_notebook as tqdm\n",
    "\n",
    "from data import HairDataset\n",
    "from model import HairColorGAN\n",
    "from utils import parse_args"
   ]
  },
  {
   "cell_type": "code",
   "execution_count": 2,
   "metadata": {},
   "outputs": [],
   "source": [
    "# setup all the relevant parameters - can look into utils/arg_parse for available options\n",
    "params = parse_args([\n",
    "    '--dataset_type', 'train',\n",
    "    '--K', '12',\n",
    "    '--L', '500',\n",
    "    '--lr', '0.0002',\n",
    "    '--lr_policy', 'linear',\n",
    "    '--lambda_cyc', '5.0',\n",
    "    '--lambda_idt', '0.333',\n",
    "    # '--continue_train',\n",
    "    '--save_interval', '10',\n",
    "    ])"
   ]
  },
  {
   "cell_type": "code",
   "execution_count": 3,
   "metadata": {},
   "outputs": [
    {
     "name": "stdout",
     "output_type": "stream",
     "text": [
      "num of training images:  12000\n",
      "num of training batches:  1500\n"
     ]
    }
   ],
   "source": [
    "train_dataset = HairDataset(params)\n",
    "train_data = DataLoader(train_dataset, batch_size=params.batch_size, shuffle=False)\n",
    "\n",
    "print('num of training images: ', len(train_dataset))\n",
    "print('num of training batches: ', int(len(train_dataset)/params.batch_size))"
   ]
  },
  {
   "cell_type": "code",
   "execution_count": 4,
   "metadata": {},
   "outputs": [],
   "source": [
    "model = HairColorGAN(params)\n",
    "\n",
    "# summary(model.gen, torch.rand(params.batch_size,6,256,256)) #(batchsize, c, h, w)\n",
    "# summary(model.desc, torch.rand(params.batch_size,6,256,256)) #(batchsize, c, h, w)"
   ]
  },
  {
   "cell_type": "code",
   "execution_count": 5,
   "metadata": {},
   "outputs": [],
   "source": [
    "for epoch in range(model.checkpoint, params.n_epochs + params.n_epochs_decay + 1):\n",
    "    for i, data in enumerate(train_data):\n",
    "        model.set_inputs(data)\n",
    "        model.optimize_parameters()\n",
    "        stats_dict = model.get_stats\n",
    "        \n",
    "        # get losses and print them here by display frequency\n",
    "        if i % params.print_iter_interval == 0:\n",
    "            print('lr = %.5f \\t loss_G= %.5f \\t loss_D= %.5f'.format(\n",
    "                stats_dict['lr'], stats_dict['loss_G'], stats_dict['loss_D']\n",
    "            ))\n",
    "        \n",
    "        \n",
    "        \n",
    "        # make function to keep adding losses to csv file for tracking\n",
    "        # make function to get images and save them to save_dir by save frequency\n",
    "    model.update_learning_rate()\n",
    "    break\n"
   ]
  },
  {
   "cell_type": "code",
   "execution_count": null,
   "metadata": {},
   "outputs": [],
   "source": []
  }
 ],
 "metadata": {
  "kernelspec": {
   "display_name": "Python 3.8.8 ('base')",
   "language": "python",
   "name": "python3"
  },
  "language_info": {
   "codemirror_mode": {
    "name": "ipython",
    "version": 3
   },
   "file_extension": ".py",
   "mimetype": "text/x-python",
   "name": "python",
   "nbconvert_exporter": "python",
   "pygments_lexer": "ipython3",
   "version": "3.8.8"
  },
  "orig_nbformat": 4,
  "vscode": {
   "interpreter": {
    "hash": "40d3a090f54c6569ab1632332b64b2c03c39dcf918b08424e98f38b5ae0af88f"
   }
  }
 },
 "nbformat": 4,
 "nbformat_minor": 2
}
