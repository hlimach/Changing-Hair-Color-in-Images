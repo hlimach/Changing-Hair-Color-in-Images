{
  "cells": [
    {
      "cell_type": "code",
      "execution_count": 1,
      "metadata": {
        "colab": {
          "base_uri": "https://localhost:8080/"
        },
        "id": "4u1wueaGYu4x",
        "outputId": "44d17e0d-260d-4d13-d5cd-4b79958dada6"
      },
      "outputs": [
        {
          "name": "stdout",
          "output_type": "stream",
          "text": [
            "Mounted at /content/gdrive\n"
          ]
        }
      ],
      "source": [
        "from google.colab import drive\n",
        "drive.mount('/content/gdrive')"
      ]
    },
    {
      "cell_type": "code",
      "execution_count": 2,
      "metadata": {
        "id": "o_BibAlHZyWe"
      },
      "outputs": [],
      "source": [
        "import os\n",
        "import torch\n",
        "from torch.utils.data import DataLoader\n",
        "# from torchsummaryX import summary\n",
        "from tqdm.notebook import tqdm\n",
        "\n",
        "root = '/content/gdrive/MyDrive/Changing Hair Color in Images/'\n",
        "os.sys.path.append(root)\n",
        "\n",
        "from data import HairDataset\n",
        "from model import HairColorGAN\n",
        "from utils import parse_args"
      ]
    },
    {
      "cell_type": "code",
      "execution_count": 3,
      "metadata": {
        "id": "epr541v3bW_x"
      },
      "outputs": [],
      "source": [
        "# setup all the relevant parameters - can look into utils/arg_parse for available options\n",
        "params = parse_args([\n",
        "    '--dataroot', root+'dataset',\n",
        "    '--dataset_type', 'train',\n",
        "    '--K', '20',\n",
        "    '--L', '500',\n",
        "    '--lr', '0.0002',\n",
        "    '--lr_policy', 'linear',\n",
        "    '--lambda_cyc', '5.0',\n",
        "    '--lambda_idt', '0.333',\n",
        "    '--continue_train',\n",
        "    '--save_dir', root+'model/checkpoints',\n",
        "    '--img_pool_size', '30',\n",
        "    ])"
      ]
    },
    {
      "cell_type": "code",
      "execution_count": 4,
      "metadata": {
        "colab": {
          "base_uri": "https://localhost:8080/"
        },
        "id": "Auhu2TnhbZs1",
        "outputId": "223214d8-903d-41e0-d39d-51627b6184dc"
      },
      "outputs": [
        {
          "name": "stdout",
          "output_type": "stream",
          "text": [
            "14199 14114\n",
            "num of training images:  12000\n",
            "num of training batches:  1500\n"
          ]
        }
      ],
      "source": [
        "train_dataset = HairDataset(params)\n",
        "train_data = DataLoader(train_dataset, batch_size=params.batch_size, shuffle=False)\n",
        "\n",
        "i_max = int(len(train_dataset)/params.batch_size)\n",
        "print('num of training images: ', len(train_dataset))\n",
        "print('num of training batches: ', i_max)"
      ]
    },
    {
      "cell_type": "code",
      "execution_count": 5,
      "metadata": {
        "colab": {
          "base_uri": "https://localhost:8080/"
        },
        "id": "1FCrHR-Xbc6K",
        "outputId": "c0011498-f3a9-4a19-ed87-729f8721596c"
      },
      "outputs": [
        {
          "name": "stdout",
          "output_type": "stream",
          "text": [
            "successfully loaded:  latest_model_gen.pth\n",
            "successfully loaded:  latest_model_disc.pth\n",
            "starting from epoch 2, iter 301\n"
          ]
        }
      ],
      "source": [
        "model = HairColorGAN(params, i_max)\n",
        "# summary(model.gen, torch.rand(params.batch_size,6,256,256)) #(batchsize, c, h, w)\n",
        "# summary(model.desc, torch.rand(params.batch_size,6,256,256)) #(batchsize, c, h, w)"
      ]
    },
    {
      "cell_type": "code",
      "execution_count": null,
      "metadata": {
        "colab": {
          "base_uri": "https://localhost:8080/",
          "height": 49,
          "referenced_widgets": [
            "097802b546e04afa9824433eda8d4499",
            "b101d40ace774472b64823329f16b2e6",
            "dd0d662e63724b358409af3bf2ebf1fa",
            "8a6033b2822b483a890ef0cbf060c477",
            "6dd4feddee884001bc3af15f010fe5bb",
            "6bde4ae4e2d743d5904ee5cef63e6c2a",
            "e7d582d4c08e4c87986bd833c6c78820",
            "757c6e0521014d0eb939cb6b53ed9ba8",
            "d7a521df7d7742c8920afc72385fea0d",
            "0c4b7208e2a84702b0763daa89bab7ae",
            "25348152b8f74edc876f1bf1a717fec8"
          ]
        },
        "id": "yKLycNawbfmb",
        "outputId": "dc596dfb-3c39-4f31-d4bd-8b8ffc53f16d"
      },
      "outputs": [
        {
          "data": {
            "application/vnd.jupyter.widget-view+json": {
              "model_id": "097802b546e04afa9824433eda8d4499",
              "version_major": 2,
              "version_minor": 0
            },
            "text/plain": [
              "Epoch 2 :   0%|          | 0/1199 [00:00<?, ?it/s]"
            ]
          },
          "metadata": {},
          "output_type": "display_data"
        }
      ],
      "source": [
        "for epoch in range(model.checkpoint, params.n_epochs + params.n_epochs_decay + 1):\n",
        "    model.refresh(epoch)\n",
        "\n",
        "    for i in tqdm(range(model.iter, i_max), desc=(('Epoch %s ') % (epoch))):\n",
        "        batch = next(iter(train_data))\n",
        "        model.set_inputs(batch)\n",
        "        model.optimize_parameters()\n",
        "\n",
        "        # keep adding stats for tracking purposes\n",
        "        model.update_trackers(i)\n",
        "        \n",
        "        # get losses and print them by display frequency, save models\n",
        "        if i % params.print_iter_interval == 0 or i == i_max - 1:\n",
        "            model.save_model(i, 'latest')\n",
        "            stats_dict = model.get_stats()\n",
        "            print(('iter = %d \\t lr = %.4f \\t loss_G= %.4f \\t loss_D= %.4f \\t saved at %s') %\n",
        "                (i, stats_dict['lr'], stats_dict['loss_G'], stats_dict['loss_D'], model.epoch_dir)\n",
        "            )\n",
        "        \n",
        "        # save an amount of images (params.img_pool_size) using random indices\n",
        "        if i in model.save_indices:\n",
        "            model.save_images(i)\n",
        "    \n",
        "    model.save_logs(epoch)\n",
        "    model.update_learning_rate()\n"
      ]
    },
    {
      "cell_type": "code",
      "execution_count": null,
      "metadata": {
        "id": "ztFH8phhfL5t"
      },
      "outputs": [],
      "source": []
    }
  ],
  "metadata": {
    "accelerator": "GPU",
    "colab": {
      "collapsed_sections": [],
      "provenance": []
    },
    "kernelspec": {
      "display_name": "Python 3.8.8 ('base')",
      "language": "python",
      "name": "python3"
    },
    "language_info": {
      "name": "python",
      "version": "3.8.8"
    },
    "vscode": {
      "interpreter": {
        "hash": "40d3a090f54c6569ab1632332b64b2c03c39dcf918b08424e98f38b5ae0af88f"
      }
    },
    "widgets": {
      "application/vnd.jupyter.widget-state+json": {
        "097802b546e04afa9824433eda8d4499": {
          "model_module": "@jupyter-widgets/controls",
          "model_module_version": "1.5.0",
          "model_name": "HBoxModel",
          "state": {
            "_dom_classes": [],
            "_model_module": "@jupyter-widgets/controls",
            "_model_module_version": "1.5.0",
            "_model_name": "HBoxModel",
            "_view_count": null,
            "_view_module": "@jupyter-widgets/controls",
            "_view_module_version": "1.5.0",
            "_view_name": "HBoxView",
            "box_style": "",
            "children": [
              "IPY_MODEL_b101d40ace774472b64823329f16b2e6",
              "IPY_MODEL_dd0d662e63724b358409af3bf2ebf1fa",
              "IPY_MODEL_8a6033b2822b483a890ef0cbf060c477"
            ],
            "layout": "IPY_MODEL_6dd4feddee884001bc3af15f010fe5bb"
          }
        },
        "0c4b7208e2a84702b0763daa89bab7ae": {
          "model_module": "@jupyter-widgets/base",
          "model_module_version": "1.2.0",
          "model_name": "LayoutModel",
          "state": {
            "_model_module": "@jupyter-widgets/base",
            "_model_module_version": "1.2.0",
            "_model_name": "LayoutModel",
            "_view_count": null,
            "_view_module": "@jupyter-widgets/base",
            "_view_module_version": "1.2.0",
            "_view_name": "LayoutView",
            "align_content": null,
            "align_items": null,
            "align_self": null,
            "border": null,
            "bottom": null,
            "display": null,
            "flex": null,
            "flex_flow": null,
            "grid_area": null,
            "grid_auto_columns": null,
            "grid_auto_flow": null,
            "grid_auto_rows": null,
            "grid_column": null,
            "grid_gap": null,
            "grid_row": null,
            "grid_template_areas": null,
            "grid_template_columns": null,
            "grid_template_rows": null,
            "height": null,
            "justify_content": null,
            "justify_items": null,
            "left": null,
            "margin": null,
            "max_height": null,
            "max_width": null,
            "min_height": null,
            "min_width": null,
            "object_fit": null,
            "object_position": null,
            "order": null,
            "overflow": null,
            "overflow_x": null,
            "overflow_y": null,
            "padding": null,
            "right": null,
            "top": null,
            "visibility": null,
            "width": null
          }
        },
        "25348152b8f74edc876f1bf1a717fec8": {
          "model_module": "@jupyter-widgets/controls",
          "model_module_version": "1.5.0",
          "model_name": "DescriptionStyleModel",
          "state": {
            "_model_module": "@jupyter-widgets/controls",
            "_model_module_version": "1.5.0",
            "_model_name": "DescriptionStyleModel",
            "_view_count": null,
            "_view_module": "@jupyter-widgets/base",
            "_view_module_version": "1.2.0",
            "_view_name": "StyleView",
            "description_width": ""
          }
        },
        "6bde4ae4e2d743d5904ee5cef63e6c2a": {
          "model_module": "@jupyter-widgets/base",
          "model_module_version": "1.2.0",
          "model_name": "LayoutModel",
          "state": {
            "_model_module": "@jupyter-widgets/base",
            "_model_module_version": "1.2.0",
            "_model_name": "LayoutModel",
            "_view_count": null,
            "_view_module": "@jupyter-widgets/base",
            "_view_module_version": "1.2.0",
            "_view_name": "LayoutView",
            "align_content": null,
            "align_items": null,
            "align_self": null,
            "border": null,
            "bottom": null,
            "display": null,
            "flex": null,
            "flex_flow": null,
            "grid_area": null,
            "grid_auto_columns": null,
            "grid_auto_flow": null,
            "grid_auto_rows": null,
            "grid_column": null,
            "grid_gap": null,
            "grid_row": null,
            "grid_template_areas": null,
            "grid_template_columns": null,
            "grid_template_rows": null,
            "height": null,
            "justify_content": null,
            "justify_items": null,
            "left": null,
            "margin": null,
            "max_height": null,
            "max_width": null,
            "min_height": null,
            "min_width": null,
            "object_fit": null,
            "object_position": null,
            "order": null,
            "overflow": null,
            "overflow_x": null,
            "overflow_y": null,
            "padding": null,
            "right": null,
            "top": null,
            "visibility": null,
            "width": null
          }
        },
        "6dd4feddee884001bc3af15f010fe5bb": {
          "model_module": "@jupyter-widgets/base",
          "model_module_version": "1.2.0",
          "model_name": "LayoutModel",
          "state": {
            "_model_module": "@jupyter-widgets/base",
            "_model_module_version": "1.2.0",
            "_model_name": "LayoutModel",
            "_view_count": null,
            "_view_module": "@jupyter-widgets/base",
            "_view_module_version": "1.2.0",
            "_view_name": "LayoutView",
            "align_content": null,
            "align_items": null,
            "align_self": null,
            "border": null,
            "bottom": null,
            "display": null,
            "flex": null,
            "flex_flow": null,
            "grid_area": null,
            "grid_auto_columns": null,
            "grid_auto_flow": null,
            "grid_auto_rows": null,
            "grid_column": null,
            "grid_gap": null,
            "grid_row": null,
            "grid_template_areas": null,
            "grid_template_columns": null,
            "grid_template_rows": null,
            "height": null,
            "justify_content": null,
            "justify_items": null,
            "left": null,
            "margin": null,
            "max_height": null,
            "max_width": null,
            "min_height": null,
            "min_width": null,
            "object_fit": null,
            "object_position": null,
            "order": null,
            "overflow": null,
            "overflow_x": null,
            "overflow_y": null,
            "padding": null,
            "right": null,
            "top": null,
            "visibility": null,
            "width": null
          }
        },
        "757c6e0521014d0eb939cb6b53ed9ba8": {
          "model_module": "@jupyter-widgets/base",
          "model_module_version": "1.2.0",
          "model_name": "LayoutModel",
          "state": {
            "_model_module": "@jupyter-widgets/base",
            "_model_module_version": "1.2.0",
            "_model_name": "LayoutModel",
            "_view_count": null,
            "_view_module": "@jupyter-widgets/base",
            "_view_module_version": "1.2.0",
            "_view_name": "LayoutView",
            "align_content": null,
            "align_items": null,
            "align_self": null,
            "border": null,
            "bottom": null,
            "display": null,
            "flex": null,
            "flex_flow": null,
            "grid_area": null,
            "grid_auto_columns": null,
            "grid_auto_flow": null,
            "grid_auto_rows": null,
            "grid_column": null,
            "grid_gap": null,
            "grid_row": null,
            "grid_template_areas": null,
            "grid_template_columns": null,
            "grid_template_rows": null,
            "height": null,
            "justify_content": null,
            "justify_items": null,
            "left": null,
            "margin": null,
            "max_height": null,
            "max_width": null,
            "min_height": null,
            "min_width": null,
            "object_fit": null,
            "object_position": null,
            "order": null,
            "overflow": null,
            "overflow_x": null,
            "overflow_y": null,
            "padding": null,
            "right": null,
            "top": null,
            "visibility": null,
            "width": null
          }
        },
        "8a6033b2822b483a890ef0cbf060c477": {
          "model_module": "@jupyter-widgets/controls",
          "model_module_version": "1.5.0",
          "model_name": "HTMLModel",
          "state": {
            "_dom_classes": [],
            "_model_module": "@jupyter-widgets/controls",
            "_model_module_version": "1.5.0",
            "_model_name": "HTMLModel",
            "_view_count": null,
            "_view_module": "@jupyter-widgets/controls",
            "_view_module_version": "1.5.0",
            "_view_name": "HTMLView",
            "description": "",
            "description_tooltip": null,
            "layout": "IPY_MODEL_0c4b7208e2a84702b0763daa89bab7ae",
            "placeholder": "​",
            "style": "IPY_MODEL_25348152b8f74edc876f1bf1a717fec8",
            "value": " 36/1199 [05:17&lt;2:16:07,  7.02s/it]"
          }
        },
        "b101d40ace774472b64823329f16b2e6": {
          "model_module": "@jupyter-widgets/controls",
          "model_module_version": "1.5.0",
          "model_name": "HTMLModel",
          "state": {
            "_dom_classes": [],
            "_model_module": "@jupyter-widgets/controls",
            "_model_module_version": "1.5.0",
            "_model_name": "HTMLModel",
            "_view_count": null,
            "_view_module": "@jupyter-widgets/controls",
            "_view_module_version": "1.5.0",
            "_view_name": "HTMLView",
            "description": "",
            "description_tooltip": null,
            "layout": "IPY_MODEL_6bde4ae4e2d743d5904ee5cef63e6c2a",
            "placeholder": "​",
            "style": "IPY_MODEL_e7d582d4c08e4c87986bd833c6c78820",
            "value": "Epoch 2 :   3%"
          }
        },
        "d7a521df7d7742c8920afc72385fea0d": {
          "model_module": "@jupyter-widgets/controls",
          "model_module_version": "1.5.0",
          "model_name": "ProgressStyleModel",
          "state": {
            "_model_module": "@jupyter-widgets/controls",
            "_model_module_version": "1.5.0",
            "_model_name": "ProgressStyleModel",
            "_view_count": null,
            "_view_module": "@jupyter-widgets/base",
            "_view_module_version": "1.2.0",
            "_view_name": "StyleView",
            "bar_color": null,
            "description_width": ""
          }
        },
        "dd0d662e63724b358409af3bf2ebf1fa": {
          "model_module": "@jupyter-widgets/controls",
          "model_module_version": "1.5.0",
          "model_name": "FloatProgressModel",
          "state": {
            "_dom_classes": [],
            "_model_module": "@jupyter-widgets/controls",
            "_model_module_version": "1.5.0",
            "_model_name": "FloatProgressModel",
            "_view_count": null,
            "_view_module": "@jupyter-widgets/controls",
            "_view_module_version": "1.5.0",
            "_view_name": "ProgressView",
            "bar_style": "",
            "description": "",
            "description_tooltip": null,
            "layout": "IPY_MODEL_757c6e0521014d0eb939cb6b53ed9ba8",
            "max": 1199,
            "min": 0,
            "orientation": "horizontal",
            "style": "IPY_MODEL_d7a521df7d7742c8920afc72385fea0d",
            "value": 36
          }
        },
        "e7d582d4c08e4c87986bd833c6c78820": {
          "model_module": "@jupyter-widgets/controls",
          "model_module_version": "1.5.0",
          "model_name": "DescriptionStyleModel",
          "state": {
            "_model_module": "@jupyter-widgets/controls",
            "_model_module_version": "1.5.0",
            "_model_name": "DescriptionStyleModel",
            "_view_count": null,
            "_view_module": "@jupyter-widgets/base",
            "_view_module_version": "1.2.0",
            "_view_name": "StyleView",
            "description_width": ""
          }
        }
      }
    }
  },
  "nbformat": 4,
  "nbformat_minor": 0
}
