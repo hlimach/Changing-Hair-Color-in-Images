{
  "cells": [
    {
      "cell_type": "code",
      "execution_count": null,
      "metadata": {
        "colab": {
          "base_uri": "https://localhost:8080/"
        },
        "id": "4u1wueaGYu4x",
        "outputId": "d197eed9-44bc-4f4c-d7c5-2e9103c2e17f"
      },
      "outputs": [
        {
          "name": "stdout",
          "output_type": "stream",
          "text": [
            "Mounted at /content/gdrive\n"
          ]
        }
      ],
      "source": [
        "from google.colab import drive\n",
        "drive.mount('/content/gdrive')"
      ]
    },
    {
      "cell_type": "code",
      "execution_count": 1,
      "metadata": {
        "id": "o_BibAlHZyWe"
      },
      "outputs": [],
      "source": [
        "import os\n",
        "import torch\n",
        "from torch.utils.data import DataLoader\n",
        "# from torchsummaryX import summary\n",
        "from tqdm.notebook import tqdm\n",
        "\n",
        "# root = '/content/gdrive/MyDrive/Changing Hair Color in Images/'\n",
        "# os.sys.path.append(root)\n",
        "\n",
        "from data import HairDataset\n",
        "from model import HairColorGAN\n",
        "from utils import parse_args"
      ]
    },
    {
      "cell_type": "code",
      "execution_count": 4,
      "metadata": {
        "id": "epr541v3bW_x"
      },
      "outputs": [],
      "source": [
        "# setup all the relevant parameters - can look into utils/arg_parse for available options\n",
        "params = parse_args([\n",
        "    '--dataroot', './dataset',\n",
        "    '--dataset_type', 'train',\n",
        "    '--K', '20',\n",
        "    '--L', '500',\n",
        "    '--lr', '0.0002',\n",
        "    '--lr_policy', 'linear',\n",
        "    '--lambda_cyc', '5.0',\n",
        "    '--lambda_idt', '0.333',\n",
        "    '--continue_train',\n",
        "    '--save_dir', './model/checkpoints',\n",
        "    '--img_pool_size', '30',\n",
        "    ])"
      ]
    },
    {
      "cell_type": "code",
      "execution_count": 5,
      "metadata": {
        "colab": {
          "base_uri": "https://localhost:8080/"
        },
        "id": "Auhu2TnhbZs1",
        "outputId": "3ec52cca-dd58-4206-851d-04dc50ee18f2"
      },
      "outputs": [
        {
          "name": "stdout",
          "output_type": "stream",
          "text": [
            "num of training images:  12000\n",
            "num of training batches:  1500\n"
          ]
        }
      ],
      "source": [
        "train_dataset = HairDataset(params)\n",
        "train_data = DataLoader(train_dataset, batch_size=params.batch_size, shuffle=False)\n",
        "\n",
        "i_max = int(len(train_dataset)/params.batch_size)\n",
        "print('num of training images: ', len(train_dataset))\n",
        "print('num of training batches: ', i_max)"
      ]
    },
    {
      "cell_type": "code",
      "execution_count": 8,
      "metadata": {
        "colab": {
          "base_uri": "https://localhost:8080/"
        },
        "id": "1FCrHR-Xbc6K",
        "outputId": "31ea125b-9900-4641-8ae1-3d64f6e0330a"
      },
      "outputs": [
        {
          "name": "stdout",
          "output_type": "stream",
          "text": [
            "successfully loaded:  model_gen_iter_1250.pth\n",
            "successfully loaded:  model_disc_iter_1250.pth\n",
            "starting from epoch 5, iter 1251\n"
          ]
        }
      ],
      "source": [
        "model = HairColorGAN(params, i_max)\n",
        "# summary(model.gen, torch.rand(params.batch_size,6,256,256)) #(batchsize, c, h, w)\n",
        "# summary(model.desc, torch.rand(params.batch_size,6,256,256)) #(batchsize, c, h, w)"
      ]
    },
    {
      "cell_type": "code",
      "execution_count": null,
      "metadata": {
        "colab": {
          "base_uri": "https://localhost:8080/",
          "height": 304,
          "referenced_widgets": [
            "5344bbb9c20341bfad1b841d510798be",
            "1874995a389547b8a368a175d6c7ee59",
            "e62f2172e0a045259abe17cba2a51384",
            "a8546fcd99be47cfaa320d9ce81e7f34",
            "e37379c9d8e14dec8b4f8f0b8cd5eb7d",
            "897bb145ab5c4e47a772cfac7cf6169e",
            "9b1cd7ce188642bbb56110158278b62e",
            "503c92cedfb44700a76cf42b02c5fa1c",
            "27799546965d471f81cf5a2c9af13c82",
            "115ad5599e534622b228239fdcdcf283",
            "b10ebea91de341928213748e7cf0ee55"
          ]
        },
        "id": "yKLycNawbfmb",
        "outputId": "a05192ab-d8e4-4217-de30-e199f537f926"
      },
      "outputs": [],
      "source": [
        "for epoch in range(model.checkpoint, params.n_epochs + params.n_epochs_decay + 1):\n",
        "    model.refresh(epoch)\n",
        "\n",
        "    for i in tqdm(range(model.iter, i_max), desc=(('Epoch %s ') % (epoch))):\n",
        "        batch = next(iter(train_data))\n",
        "        model.set_inputs(batch)\n",
        "        model.optimize_parameters()\n",
        "\n",
        "        # keep adding stats for tracking purposes\n",
        "        model.update_trackers(i)\n",
        "        \n",
        "        # get losses and print them by display frequency\n",
        "        if i % params.print_iter_interval == 0 or i == i_max - 1:\n",
        "            stats_dict = model.get_stats()\n",
        "            print(('iter = %d \\t lr = %.4f \\t loss_G= %.4f \\t loss_D= %.4f') %\n",
        "                (i, stats_dict['lr'], stats_dict['loss_G'], stats_dict['loss_D'])\n",
        "            )\n",
        "        \n",
        "        # save images (params.img_pool_size) and model using random indices\n",
        "        if i in model.save_indices:\n",
        "            model.save_model(i)\n",
        "            model.save_images(i)\n",
        "    \n",
        "    model.save_logs(epoch)\n",
        "    model.update_learning_rate()\n"
      ]
    },
    {
      "cell_type": "code",
      "execution_count": null,
      "metadata": {
        "id": "ztFH8phhfL5t"
      },
      "outputs": [],
      "source": []
    }
  ],
  "metadata": {
    "accelerator": "GPU",
    "colab": {
      "collapsed_sections": [],
      "provenance": []
    },
    "kernelspec": {
      "display_name": "Python 3",
      "name": "python3"
    },
    "language_info": {
      "name": "python"
    },
    "widgets": {
      "application/vnd.jupyter.widget-state+json": {
        "115ad5599e534622b228239fdcdcf283": {
          "model_module": "@jupyter-widgets/base",
          "model_module_version": "1.2.0",
          "model_name": "LayoutModel",
          "state": {
            "_model_module": "@jupyter-widgets/base",
            "_model_module_version": "1.2.0",
            "_model_name": "LayoutModel",
            "_view_count": null,
            "_view_module": "@jupyter-widgets/base",
            "_view_module_version": "1.2.0",
            "_view_name": "LayoutView",
            "align_content": null,
            "align_items": null,
            "align_self": null,
            "border": null,
            "bottom": null,
            "display": null,
            "flex": null,
            "flex_flow": null,
            "grid_area": null,
            "grid_auto_columns": null,
            "grid_auto_flow": null,
            "grid_auto_rows": null,
            "grid_column": null,
            "grid_gap": null,
            "grid_row": null,
            "grid_template_areas": null,
            "grid_template_columns": null,
            "grid_template_rows": null,
            "height": null,
            "justify_content": null,
            "justify_items": null,
            "left": null,
            "margin": null,
            "max_height": null,
            "max_width": null,
            "min_height": null,
            "min_width": null,
            "object_fit": null,
            "object_position": null,
            "order": null,
            "overflow": null,
            "overflow_x": null,
            "overflow_y": null,
            "padding": null,
            "right": null,
            "top": null,
            "visibility": null,
            "width": null
          }
        },
        "1874995a389547b8a368a175d6c7ee59": {
          "model_module": "@jupyter-widgets/controls",
          "model_module_version": "1.5.0",
          "model_name": "HTMLModel",
          "state": {
            "_dom_classes": [],
            "_model_module": "@jupyter-widgets/controls",
            "_model_module_version": "1.5.0",
            "_model_name": "HTMLModel",
            "_view_count": null,
            "_view_module": "@jupyter-widgets/controls",
            "_view_module_version": "1.5.0",
            "_view_name": "HTMLView",
            "description": "",
            "description_tooltip": null,
            "layout": "IPY_MODEL_897bb145ab5c4e47a772cfac7cf6169e",
            "placeholder": "​",
            "style": "IPY_MODEL_9b1cd7ce188642bbb56110158278b62e",
            "value": "Epoch 5 :  89%"
          }
        },
        "27799546965d471f81cf5a2c9af13c82": {
          "model_module": "@jupyter-widgets/controls",
          "model_module_version": "1.5.0",
          "model_name": "ProgressStyleModel",
          "state": {
            "_model_module": "@jupyter-widgets/controls",
            "_model_module_version": "1.5.0",
            "_model_name": "ProgressStyleModel",
            "_view_count": null,
            "_view_module": "@jupyter-widgets/base",
            "_view_module_version": "1.2.0",
            "_view_name": "StyleView",
            "bar_color": null,
            "description_width": ""
          }
        },
        "503c92cedfb44700a76cf42b02c5fa1c": {
          "model_module": "@jupyter-widgets/base",
          "model_module_version": "1.2.0",
          "model_name": "LayoutModel",
          "state": {
            "_model_module": "@jupyter-widgets/base",
            "_model_module_version": "1.2.0",
            "_model_name": "LayoutModel",
            "_view_count": null,
            "_view_module": "@jupyter-widgets/base",
            "_view_module_version": "1.2.0",
            "_view_name": "LayoutView",
            "align_content": null,
            "align_items": null,
            "align_self": null,
            "border": null,
            "bottom": null,
            "display": null,
            "flex": null,
            "flex_flow": null,
            "grid_area": null,
            "grid_auto_columns": null,
            "grid_auto_flow": null,
            "grid_auto_rows": null,
            "grid_column": null,
            "grid_gap": null,
            "grid_row": null,
            "grid_template_areas": null,
            "grid_template_columns": null,
            "grid_template_rows": null,
            "height": null,
            "justify_content": null,
            "justify_items": null,
            "left": null,
            "margin": null,
            "max_height": null,
            "max_width": null,
            "min_height": null,
            "min_width": null,
            "object_fit": null,
            "object_position": null,
            "order": null,
            "overflow": null,
            "overflow_x": null,
            "overflow_y": null,
            "padding": null,
            "right": null,
            "top": null,
            "visibility": null,
            "width": null
          }
        },
        "5344bbb9c20341bfad1b841d510798be": {
          "model_module": "@jupyter-widgets/controls",
          "model_module_version": "1.5.0",
          "model_name": "HBoxModel",
          "state": {
            "_dom_classes": [],
            "_model_module": "@jupyter-widgets/controls",
            "_model_module_version": "1.5.0",
            "_model_name": "HBoxModel",
            "_view_count": null,
            "_view_module": "@jupyter-widgets/controls",
            "_view_module_version": "1.5.0",
            "_view_name": "HBoxView",
            "box_style": "",
            "children": [
              "IPY_MODEL_1874995a389547b8a368a175d6c7ee59",
              "IPY_MODEL_e62f2172e0a045259abe17cba2a51384",
              "IPY_MODEL_a8546fcd99be47cfaa320d9ce81e7f34"
            ],
            "layout": "IPY_MODEL_e37379c9d8e14dec8b4f8f0b8cd5eb7d"
          }
        },
        "897bb145ab5c4e47a772cfac7cf6169e": {
          "model_module": "@jupyter-widgets/base",
          "model_module_version": "1.2.0",
          "model_name": "LayoutModel",
          "state": {
            "_model_module": "@jupyter-widgets/base",
            "_model_module_version": "1.2.0",
            "_model_name": "LayoutModel",
            "_view_count": null,
            "_view_module": "@jupyter-widgets/base",
            "_view_module_version": "1.2.0",
            "_view_name": "LayoutView",
            "align_content": null,
            "align_items": null,
            "align_self": null,
            "border": null,
            "bottom": null,
            "display": null,
            "flex": null,
            "flex_flow": null,
            "grid_area": null,
            "grid_auto_columns": null,
            "grid_auto_flow": null,
            "grid_auto_rows": null,
            "grid_column": null,
            "grid_gap": null,
            "grid_row": null,
            "grid_template_areas": null,
            "grid_template_columns": null,
            "grid_template_rows": null,
            "height": null,
            "justify_content": null,
            "justify_items": null,
            "left": null,
            "margin": null,
            "max_height": null,
            "max_width": null,
            "min_height": null,
            "min_width": null,
            "object_fit": null,
            "object_position": null,
            "order": null,
            "overflow": null,
            "overflow_x": null,
            "overflow_y": null,
            "padding": null,
            "right": null,
            "top": null,
            "visibility": null,
            "width": null
          }
        },
        "9b1cd7ce188642bbb56110158278b62e": {
          "model_module": "@jupyter-widgets/controls",
          "model_module_version": "1.5.0",
          "model_name": "DescriptionStyleModel",
          "state": {
            "_model_module": "@jupyter-widgets/controls",
            "_model_module_version": "1.5.0",
            "_model_name": "DescriptionStyleModel",
            "_view_count": null,
            "_view_module": "@jupyter-widgets/base",
            "_view_module_version": "1.2.0",
            "_view_name": "StyleView",
            "description_width": ""
          }
        },
        "a8546fcd99be47cfaa320d9ce81e7f34": {
          "model_module": "@jupyter-widgets/controls",
          "model_module_version": "1.5.0",
          "model_name": "HTMLModel",
          "state": {
            "_dom_classes": [],
            "_model_module": "@jupyter-widgets/controls",
            "_model_module_version": "1.5.0",
            "_model_name": "HTMLModel",
            "_view_count": null,
            "_view_module": "@jupyter-widgets/controls",
            "_view_module_version": "1.5.0",
            "_view_name": "HTMLView",
            "description": "",
            "description_tooltip": null,
            "layout": "IPY_MODEL_115ad5599e534622b228239fdcdcf283",
            "placeholder": "​",
            "style": "IPY_MODEL_b10ebea91de341928213748e7cf0ee55",
            "value": " 714/799 [4:29:48&lt;20:50, 14.71s/it]"
          }
        },
        "b10ebea91de341928213748e7cf0ee55": {
          "model_module": "@jupyter-widgets/controls",
          "model_module_version": "1.5.0",
          "model_name": "DescriptionStyleModel",
          "state": {
            "_model_module": "@jupyter-widgets/controls",
            "_model_module_version": "1.5.0",
            "_model_name": "DescriptionStyleModel",
            "_view_count": null,
            "_view_module": "@jupyter-widgets/base",
            "_view_module_version": "1.2.0",
            "_view_name": "StyleView",
            "description_width": ""
          }
        },
        "e37379c9d8e14dec8b4f8f0b8cd5eb7d": {
          "model_module": "@jupyter-widgets/base",
          "model_module_version": "1.2.0",
          "model_name": "LayoutModel",
          "state": {
            "_model_module": "@jupyter-widgets/base",
            "_model_module_version": "1.2.0",
            "_model_name": "LayoutModel",
            "_view_count": null,
            "_view_module": "@jupyter-widgets/base",
            "_view_module_version": "1.2.0",
            "_view_name": "LayoutView",
            "align_content": null,
            "align_items": null,
            "align_self": null,
            "border": null,
            "bottom": null,
            "display": null,
            "flex": null,
            "flex_flow": null,
            "grid_area": null,
            "grid_auto_columns": null,
            "grid_auto_flow": null,
            "grid_auto_rows": null,
            "grid_column": null,
            "grid_gap": null,
            "grid_row": null,
            "grid_template_areas": null,
            "grid_template_columns": null,
            "grid_template_rows": null,
            "height": null,
            "justify_content": null,
            "justify_items": null,
            "left": null,
            "margin": null,
            "max_height": null,
            "max_width": null,
            "min_height": null,
            "min_width": null,
            "object_fit": null,
            "object_position": null,
            "order": null,
            "overflow": null,
            "overflow_x": null,
            "overflow_y": null,
            "padding": null,
            "right": null,
            "top": null,
            "visibility": null,
            "width": null
          }
        },
        "e62f2172e0a045259abe17cba2a51384": {
          "model_module": "@jupyter-widgets/controls",
          "model_module_version": "1.5.0",
          "model_name": "FloatProgressModel",
          "state": {
            "_dom_classes": [],
            "_model_module": "@jupyter-widgets/controls",
            "_model_module_version": "1.5.0",
            "_model_name": "FloatProgressModel",
            "_view_count": null,
            "_view_module": "@jupyter-widgets/controls",
            "_view_module_version": "1.5.0",
            "_view_name": "ProgressView",
            "bar_style": "",
            "description": "",
            "description_tooltip": null,
            "layout": "IPY_MODEL_503c92cedfb44700a76cf42b02c5fa1c",
            "max": 799,
            "min": 0,
            "orientation": "horizontal",
            "style": "IPY_MODEL_27799546965d471f81cf5a2c9af13c82",
            "value": 714
          }
        }
      }
    }
  },
  "nbformat": 4,
  "nbformat_minor": 0
}
